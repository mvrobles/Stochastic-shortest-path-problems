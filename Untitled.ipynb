{
 "cells": [
  {
   "cell_type": "markdown",
   "metadata": {},
   "source": [
    "# Creación del grafo"
   ]
  },
  {
   "cell_type": "code",
   "execution_count": 10,
   "metadata": {},
   "outputs": [],
   "source": [
    "import numpy as np"
   ]
  },
  {
   "cell_type": "code",
   "execution_count": 14,
   "metadata": {},
   "outputs": [
    {
     "data": {
      "text/plain": [
       "array([[0., 1., 1., 1., 0., 0., 0., 0., 0., 0.],\n",
       "       [1., 0., 0., 0., 1., 0., 1., 0., 0., 0.],\n",
       "       [1., 1., 0., 0., 0., 1., 0., 1., 0., 0.],\n",
       "       [0., 0., 1., 0., 0., 0., 0., 0., 1., 0.],\n",
       "       [0., 0., 1., 0., 0., 0., 1., 1., 0., 0.],\n",
       "       [0., 0., 0., 1., 0., 0., 0., 1., 1., 0.],\n",
       "       [0., 0., 0., 0., 0., 0., 0., 1., 0., 1.],\n",
       "       [0., 0., 0., 0., 1., 1., 0., 0., 0., 1.],\n",
       "       [0., 0., 0., 0., 0., 0., 0., 1., 0., 1.],\n",
       "       [0., 0., 0., 0., 0., 0., 0., 0., 0., 0.]])"
      ]
     },
     "execution_count": 14,
     "metadata": {},
     "output_type": "execute_result"
    }
   ],
   "source": [
    "# Número de vértices\n",
    "N = 10\n",
    "\n",
    "# Sucesores de cada vértice\n",
    "grafo = np.zeros((10,10))\n",
    "\n",
    "# Vecinos de 1\n",
    "grafo[0,1] = 1; grafo[0,2] = 1; grafo[0,3] = 1\n",
    "\n",
    "# Vecinos de 2\n",
    "grafo[1,0] = 1; grafo[1,4] = 1; grafo[1,6] = 1\n",
    "\n",
    "# Vecinos de 3\n",
    "grafo[2,0] = 1; grafo[2,1] = 1; grafo[2,5] = 1; grafo[2,7] = 1\n",
    "\n",
    "# Vecinos de 4\n",
    "grafo[3,2] = 1; grafo[3,8] = 1\n",
    "\n",
    "# Vecinos de 5\n",
    "grafo[4,2] = 1; grafo[4,6] = 1; grafo[4,7] = 1\n",
    "\n",
    "# Vecinos de 6\n",
    "grafo[5,3] = 1; grafo[5,7] = 1; grafo[5,8] = 1\n",
    "\n",
    "# Vecinos de 7\n",
    "grafo[6,7] = 1; grafo[6,9] = 1\n",
    "\n",
    "# Vecinos de 8\n",
    "grafo[7,4] = 1; grafo[7,5] = 1; grafo[7,9] = 1\n",
    "\n",
    "# Vecinos de 9\n",
    "grafo[8,7] = 1; grafo[8,9] = 1;"
   ]
  },
  {
   "cell_type": "code",
   "execution_count": null,
   "metadata": {},
   "outputs": [],
   "source": []
  }
 ],
 "metadata": {
  "kernelspec": {
   "display_name": "Python 3",
   "language": "python",
   "name": "python3"
  },
  "language_info": {
   "codemirror_mode": {
    "name": "ipython",
    "version": 3
   },
   "file_extension": ".py",
   "mimetype": "text/x-python",
   "name": "python",
   "nbconvert_exporter": "python",
   "pygments_lexer": "ipython3",
   "version": "3.8.5"
  }
 },
 "nbformat": 4,
 "nbformat_minor": 4
}
